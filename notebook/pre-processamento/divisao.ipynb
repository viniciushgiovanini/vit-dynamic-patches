{
 "cells": [
  {
   "cell_type": "markdown",
   "metadata": {},
   "source": [
    "## Arquivo para divisao do dataset em Treino e Teste\n",
    "\n",
    "- Dividir os arquivo do path base_recortada para o path base_treinamento"
   ]
  },
  {
   "cell_type": "code",
   "execution_count": 3,
   "metadata": {},
   "outputs": [],
   "source": [
    "import shutil\n",
    "import random\n",
    "import os"
   ]
  },
  {
   "cell_type": "code",
   "execution_count": 5,
   "metadata": {},
   "outputs": [],
   "source": [
    "def obter_nomes_pastas(diretorio):\n",
    "    nomes_pastas = []\n",
    "    for nome in os.listdir(diretorio):\n",
    "        if os.path.isdir(os.path.join(diretorio, nome)):\n",
    "            nomes_pastas.append(nome)\n",
    "    return nomes_pastas\n",
    "\n",
    "# Exemplo de uso\n",
    "cwd = os.getcwd()\n",
    "diretorio = os.path.join(cwd, \"..\", \"data\", \"base_recortada\")\n",
    "\n",
    "pastas = obter_nomes_pastas(diretorio)\n",
    "\n",
    "\n",
    "diretorio_origem = diretorio\n",
    "diretorio_destino = os.path.join(cwd, \"..\", \"data\", \"base_treinamento\")\n",
    "\n",
    "percent = 0.6\n",
    "\n",
    "for each in pastas:\n",
    "\n",
    "    # Diretório contendo todas as imagens\n",
    "    diretorio_imagens = diretorio_origem + f'/{each}/'\n",
    "\n",
    "    # Diretório para salvar as imagens de treinamento\n",
    "    diretorio_treinamento = diretorio_destino + f'/train/{each}/'\n",
    "\n",
    "    # Diretório para salvar as imagens de teste\n",
    "    diretorio_teste = diretorio_destino + f'/test/{each}/'\n",
    "\n",
    "    # Lista todas as imagens no diretório\n",
    "    imagens = os.listdir(diretorio_imagens)\n",
    "\n",
    "    # Embaralha a lista de imagens\n",
    "    random.shuffle(imagens)\n",
    "\n",
    "    # Calcula o índice para dividir as imagens\n",
    "    indice_divisao = int(percent * len(imagens))\n",
    "\n",
    "    # Separa as imagens em treinamento e teste\n",
    "    imagens_treinamento = imagens[:indice_divisao]\n",
    "    imagens_teste = imagens[indice_divisao:]\n",
    "\n",
    "    if not (os.path.exists(diretorio_teste)):\n",
    "        os.makedirs(diretorio_teste)\n",
    "\n",
    "    if not (os.path.exists(diretorio_treinamento)):\n",
    "        os.makedirs(diretorio_treinamento)\n",
    "\n",
    "    # Move as imagens para os diretórios correspondentes\n",
    "    for imagem in imagens_treinamento:\n",
    "        shutil.copy(os.path.join(diretorio_imagens, imagem),\n",
    "                    diretorio_treinamento)\n",
    "\n",
    "    for imagem in imagens_teste:\n",
    "        shutil.copy(os.path.join(diretorio_imagens, imagem), diretorio_teste)"
   ]
  },
  {
   "cell_type": "markdown",
   "metadata": {},
   "source": [
    "Criando Validate\n"
   ]
  },
  {
   "cell_type": "code",
   "execution_count": 6,
   "metadata": {},
   "outputs": [
    {
     "name": "stdout",
     "output_type": "stream",
     "text": [
      "Movido: ../data/base_treinamento/train/ASC-H\\8150.png para ../data/base_treinamento/validation/ASC-H\\8150.png\n",
      "Movido: ../data/base_treinamento/train/ASC-H\\730.png para ../data/base_treinamento/validation/ASC-H\\730.png\n",
      "Movido: ../data/base_treinamento/train/ASC-H\\9784.png para ../data/base_treinamento/validation/ASC-H\\9784.png\n",
      "Movido: ../data/base_treinamento/train/ASC-H\\9747.png para ../data/base_treinamento/validation/ASC-H\\9747.png\n",
      "Movido: ../data/base_treinamento/train/ASC-H\\8121.png para ../data/base_treinamento/validation/ASC-H\\8121.png\n",
      "Movido: ../data/base_treinamento/train/ASC-US\\4274.png para ../data/base_treinamento/validation/ASC-US\\4274.png\n",
      "Movido: ../data/base_treinamento/train/ASC-US\\4858.png para ../data/base_treinamento/validation/ASC-US\\4858.png\n",
      "Movido: ../data/base_treinamento/train/ASC-US\\3108.png para ../data/base_treinamento/validation/ASC-US\\3108.png\n",
      "Movido: ../data/base_treinamento/train/ASC-US\\11485.png para ../data/base_treinamento/validation/ASC-US\\11485.png\n",
      "Movido: ../data/base_treinamento/train/ASC-US\\5269.png para ../data/base_treinamento/validation/ASC-US\\5269.png\n",
      "Movido: ../data/base_treinamento/train/HSIL\\8318.png para ../data/base_treinamento/validation/HSIL\\8318.png\n",
      "Movido: ../data/base_treinamento/train/HSIL\\8597.png para ../data/base_treinamento/validation/HSIL\\8597.png\n",
      "Movido: ../data/base_treinamento/train/HSIL\\7854.png para ../data/base_treinamento/validation/HSIL\\7854.png\n",
      "Movido: ../data/base_treinamento/train/HSIL\\8839.png para ../data/base_treinamento/validation/HSIL\\8839.png\n",
      "Movido: ../data/base_treinamento/train/HSIL\\362.png para ../data/base_treinamento/validation/HSIL\\362.png\n",
      "Movido: ../data/base_treinamento/train/LSIL\\1411.png para ../data/base_treinamento/validation/LSIL\\1411.png\n",
      "Movido: ../data/base_treinamento/train/LSIL\\5468.png para ../data/base_treinamento/validation/LSIL\\5468.png\n",
      "Movido: ../data/base_treinamento/train/LSIL\\1900.png para ../data/base_treinamento/validation/LSIL\\1900.png\n",
      "Movido: ../data/base_treinamento/train/LSIL\\5633.png para ../data/base_treinamento/validation/LSIL\\5633.png\n",
      "Movido: ../data/base_treinamento/train/LSIL\\10119.png para ../data/base_treinamento/validation/LSIL\\10119.png\n",
      "Movido: ../data/base_treinamento/train/Negative for intraepithelial lesion\\5643.png para ../data/base_treinamento/validation/Negative for intraepithelial lesion\\5643.png\n",
      "Movido: ../data/base_treinamento/train/Negative for intraepithelial lesion\\2879.png para ../data/base_treinamento/validation/Negative for intraepithelial lesion\\2879.png\n",
      "Movido: ../data/base_treinamento/train/Negative for intraepithelial lesion\\6127.png para ../data/base_treinamento/validation/Negative for intraepithelial lesion\\6127.png\n",
      "Movido: ../data/base_treinamento/train/Negative for intraepithelial lesion\\5646.png para ../data/base_treinamento/validation/Negative for intraepithelial lesion\\5646.png\n",
      "Movido: ../data/base_treinamento/train/Negative for intraepithelial lesion\\7367.png para ../data/base_treinamento/validation/Negative for intraepithelial lesion\\7367.png\n",
      "Movido: ../data/base_treinamento/train/SCC\\7753.png para ../data/base_treinamento/validation/SCC\\7753.png\n",
      "Movido: ../data/base_treinamento/train/SCC\\4.png para ../data/base_treinamento/validation/SCC\\4.png\n",
      "Movido: ../data/base_treinamento/train/SCC\\94.png para ../data/base_treinamento/validation/SCC\\94.png\n",
      "Movido: ../data/base_treinamento/train/SCC\\7895.png para ../data/base_treinamento/validation/SCC\\7895.png\n",
      "Movido: ../data/base_treinamento/train/SCC\\7734.png para ../data/base_treinamento/validation/SCC\\7734.png\n"
     ]
    }
   ],
   "source": [
    "def mover_imagens(origem, destino, quantidade):\n",
    "    if not os.path.exists(destino):\n",
    "        os.makedirs(destino)\n",
    "\n",
    "    for pasta in os.listdir(origem):\n",
    "        pasta_origem = os.path.join(origem, pasta)\n",
    "        if os.path.isdir(pasta_origem):\n",
    "            pasta_destino = os.path.join(destino, pasta)\n",
    "            if not os.path.exists(pasta_destino):\n",
    "                os.makedirs(pasta_destino)\n",
    "\n",
    "            arquivos = [f for f in os.listdir(pasta_origem) if os.path.isfile(os.path.join(pasta_origem, f))]\n",
    "            \n",
    "            if arquivos:\n",
    "                arquivos_para_mover = random.sample(arquivos, min(quantidade, len(arquivos)))\n",
    "                for arquivo in arquivos_para_mover:\n",
    "                    caminho_arquivo_origem = os.path.join(pasta_origem, arquivo)\n",
    "                    caminho_arquivo_destino = os.path.join(pasta_destino, arquivo)\n",
    "                    shutil.move(caminho_arquivo_origem, caminho_arquivo_destino)\n",
    "                    print(f'Movido: {caminho_arquivo_origem} para {caminho_arquivo_destino}')\n",
    "\n",
    "origem = '../data/base_treinamento/train/'\n",
    "destino = '../data/base_treinamento/validation/'\n",
    "quantidade = 5 \n",
    "\n",
    "mover_imagens(origem, destino, quantidade)\n"
   ]
  }
 ],
 "metadata": {
  "kernelspec": {
   "display_name": "venv",
   "language": "python",
   "name": "python3"
  },
  "language_info": {
   "codemirror_mode": {
    "name": "ipython",
    "version": 3
   },
   "file_extension": ".py",
   "mimetype": "text/x-python",
   "name": "python",
   "nbconvert_exporter": "python",
   "pygments_lexer": "ipython3",
   "version": "3.11.1"
  }
 },
 "nbformat": 4,
 "nbformat_minor": 2
}
