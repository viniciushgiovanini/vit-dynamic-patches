{
 "cells": [
  {
   "cell_type": "markdown",
   "metadata": {},
   "source": [
    "## Arquivo para divisao do dataset em Treino e Teste\n",
    "\n",
    "- Dividir os arquivo do path base_recortada para o path base_treinamento"
   ]
  },
  {
   "cell_type": "code",
   "execution_count": 1,
   "metadata": {},
   "outputs": [],
   "source": [
    "import numpy as np\n",
    "import pandas as pd\n",
    "import matplotlib.pyplot as plt\n",
    "import sklearn\n",
    "import cv2\n",
    "import os\n",
    "import shutil\n",
    "from PIL import Image\n",
    "import random"
   ]
  },
  {
   "cell_type": "code",
   "execution_count": 2,
   "metadata": {},
   "outputs": [],
   "source": [
    "import os\n",
    "\n",
    "def obter_nomes_pastas(diretorio):\n",
    "    nomes_pastas = []\n",
    "    for nome in os.listdir(diretorio):\n",
    "        if os.path.isdir(os.path.join(diretorio, nome)):\n",
    "            nomes_pastas.append(nome)\n",
    "    return nomes_pastas\n",
    "\n",
    "# Exemplo de uso\n",
    "cwd = os.getcwd()\n",
    "diretorio = os.path.join(cwd, \"..\", \"data\", \"base_balanceada\")\n",
    "\n",
    "pastas = obter_nomes_pastas(diretorio)\n",
    "\n",
    "\n",
    "diretorio_origem = diretorio\n",
    "diretorio_destino = os.path.join(cwd, \"..\", \"data\", \"base_treinamento\")\n",
    "\n",
    "percent = 0.6\n",
    "\n",
    "for each in pastas:\n",
    "\n",
    "    # Diretório contendo todas as imagens\n",
    "    diretorio_imagens = diretorio_origem + f'/{each}/'\n",
    "\n",
    "    # Diretório para salvar as imagens de treinamento\n",
    "    diretorio_treinamento = diretorio_destino + f'/train/{each}/'\n",
    "\n",
    "    # Diretório para salvar as imagens de teste\n",
    "    diretorio_teste = diretorio_destino + f'/test/{each}/'\n",
    "\n",
    "    # Lista todas as imagens no diretório\n",
    "    imagens = os.listdir(diretorio_imagens)\n",
    "\n",
    "    # Embaralha a lista de imagens\n",
    "    random.shuffle(imagens)\n",
    "\n",
    "    # Calcula o índice para dividir as imagens\n",
    "    indice_divisao = int(percent * len(imagens))\n",
    "\n",
    "    # Separa as imagens em treinamento e teste\n",
    "    imagens_treinamento = imagens[:indice_divisao]\n",
    "    imagens_teste = imagens[indice_divisao:]\n",
    "\n",
    "    if not (os.path.exists(diretorio_teste)):\n",
    "        os.makedirs(diretorio_teste)\n",
    "\n",
    "    if not (os.path.exists(diretorio_treinamento)):\n",
    "        os.makedirs(diretorio_treinamento)\n",
    "\n",
    "    # Move as imagens para os diretórios correspondentes\n",
    "    for imagem in imagens_treinamento:\n",
    "        shutil.copy(os.path.join(diretorio_imagens, imagem),\n",
    "                    diretorio_treinamento)\n",
    "\n",
    "    for imagem in imagens_teste:\n",
    "        shutil.copy(os.path.join(diretorio_imagens, imagem), diretorio_teste)"
   ]
  },
  {
   "cell_type": "markdown",
   "metadata": {},
   "source": [
    "Criando Validate\n"
   ]
  },
  {
   "cell_type": "code",
   "execution_count": 3,
   "metadata": {},
   "outputs": [
    {
     "name": "stdout",
     "output_type": "stream",
     "text": [
      "Movido: ../data/base_treinamento/train/ASC-H\\aug_1260_28.png para ../data/base_treinamento/validation/ASC-H\\aug_1260_28.png\n",
      "Movido: ../data/base_treinamento/train/ASC-H\\aug_147_29.png para ../data/base_treinamento/validation/ASC-H\\aug_147_29.png\n",
      "Movido: ../data/base_treinamento/train/ASC-H\\aug_94_9877.png para ../data/base_treinamento/validation/ASC-H\\aug_94_9877.png\n",
      "Movido: ../data/base_treinamento/train/ASC-H\\aug_50_8119.png para ../data/base_treinamento/validation/ASC-H\\aug_50_8119.png\n",
      "Movido: ../data/base_treinamento/train/ASC-H\\aug_143_9775.png para ../data/base_treinamento/validation/ASC-H\\aug_143_9775.png\n",
      "Movido: ../data/base_treinamento/train/ASC-US\\2898.png para ../data/base_treinamento/validation/ASC-US\\2898.png\n",
      "Movido: ../data/base_treinamento/train/ASC-US\\aug_154_5192.png para ../data/base_treinamento/validation/ASC-US\\aug_154_5192.png\n",
      "Movido: ../data/base_treinamento/train/ASC-US\\aug_726_3439.png para ../data/base_treinamento/validation/ASC-US\\aug_726_3439.png\n",
      "Movido: ../data/base_treinamento/train/ASC-US\\aug_1228_4769.png para ../data/base_treinamento/validation/ASC-US\\aug_1228_4769.png\n",
      "Movido: ../data/base_treinamento/train/ASC-US\\aug_380_1074.png para ../data/base_treinamento/validation/ASC-US\\aug_380_1074.png\n",
      "Movido: ../data/base_treinamento/train/HSIL\\8834.png para ../data/base_treinamento/validation/HSIL\\8834.png\n",
      "Movido: ../data/base_treinamento/train/HSIL\\aug_413_8091.png para ../data/base_treinamento/validation/HSIL\\aug_413_8091.png\n",
      "Movido: ../data/base_treinamento/train/HSIL\\8572.png para ../data/base_treinamento/validation/HSIL\\8572.png\n",
      "Movido: ../data/base_treinamento/train/HSIL\\aug_399_8295.png para ../data/base_treinamento/validation/HSIL\\aug_399_8295.png\n",
      "Movido: ../data/base_treinamento/train/HSIL\\345.png para ../data/base_treinamento/validation/HSIL\\345.png\n",
      "Movido: ../data/base_treinamento/train/LSIL\\1420.png para ../data/base_treinamento/validation/LSIL\\1420.png\n",
      "Movido: ../data/base_treinamento/train/LSIL\\aug_685_5515.png para ../data/base_treinamento/validation/LSIL\\aug_685_5515.png\n",
      "Movido: ../data/base_treinamento/train/LSIL\\aug_217_4264.png para ../data/base_treinamento/validation/LSIL\\aug_217_4264.png\n",
      "Movido: ../data/base_treinamento/train/LSIL\\aug_314_1894.png para ../data/base_treinamento/validation/LSIL\\aug_314_1894.png\n",
      "Movido: ../data/base_treinamento/train/LSIL\\aug_56_10142.png para ../data/base_treinamento/validation/LSIL\\aug_56_10142.png\n",
      "Movido: ../data/base_treinamento/train/Negative for intraepithelial lesion\\7158.png para ../data/base_treinamento/validation/Negative for intraepithelial lesion\\7158.png\n",
      "Movido: ../data/base_treinamento/train/Negative for intraepithelial lesion\\8163.png para ../data/base_treinamento/validation/Negative for intraepithelial lesion\\8163.png\n",
      "Movido: ../data/base_treinamento/train/Negative for intraepithelial lesion\\10247.png para ../data/base_treinamento/validation/Negative for intraepithelial lesion\\10247.png\n",
      "Movido: ../data/base_treinamento/train/Negative for intraepithelial lesion\\4600.png para ../data/base_treinamento/validation/Negative for intraepithelial lesion\\4600.png\n",
      "Movido: ../data/base_treinamento/train/Negative for intraepithelial lesion\\1735.png para ../data/base_treinamento/validation/Negative for intraepithelial lesion\\1735.png\n",
      "Movido: ../data/base_treinamento/train/SCC\\aug_1172_4.png para ../data/base_treinamento/validation/SCC\\aug_1172_4.png\n",
      "Movido: ../data/base_treinamento/train/SCC\\aug_1123_103.png para ../data/base_treinamento/validation/SCC\\aug_1123_103.png\n",
      "Movido: ../data/base_treinamento/train/SCC\\aug_1248_7747.png para ../data/base_treinamento/validation/SCC\\aug_1248_7747.png\n",
      "Movido: ../data/base_treinamento/train/SCC\\aug_239_7750.png para ../data/base_treinamento/validation/SCC\\aug_239_7750.png\n",
      "Movido: ../data/base_treinamento/train/SCC\\aug_731_7833.png para ../data/base_treinamento/validation/SCC\\aug_731_7833.png\n"
     ]
    }
   ],
   "source": [
    "import os\n",
    "import shutil\n",
    "import random\n",
    "\n",
    "def mover_imagens(origem, destino, quantidade):\n",
    "    if not os.path.exists(destino):\n",
    "        os.makedirs(destino)\n",
    "\n",
    "    for pasta in os.listdir(origem):\n",
    "        pasta_origem = os.path.join(origem, pasta)\n",
    "        if os.path.isdir(pasta_origem):\n",
    "            pasta_destino = os.path.join(destino, pasta)\n",
    "            if not os.path.exists(pasta_destino):\n",
    "                os.makedirs(pasta_destino)\n",
    "\n",
    "            arquivos = [f for f in os.listdir(pasta_origem) if os.path.isfile(os.path.join(pasta_origem, f))]\n",
    "            \n",
    "            if arquivos:\n",
    "                arquivos_para_mover = random.sample(arquivos, min(quantidade, len(arquivos)))\n",
    "                for arquivo in arquivos_para_mover:\n",
    "                    caminho_arquivo_origem = os.path.join(pasta_origem, arquivo)\n",
    "                    caminho_arquivo_destino = os.path.join(pasta_destino, arquivo)\n",
    "                    shutil.move(caminho_arquivo_origem, caminho_arquivo_destino)\n",
    "                    print(f'Movido: {caminho_arquivo_origem} para {caminho_arquivo_destino}')\n",
    "\n",
    "origem = '../data/base_treinamento/train/'\n",
    "destino = '../data/base_treinamento/validation/'\n",
    "quantidade = 5 \n",
    "\n",
    "mover_imagens(origem, destino, quantidade)\n"
   ]
  }
 ],
 "metadata": {
  "kernelspec": {
   "display_name": "venv",
   "language": "python",
   "name": "python3"
  },
  "language_info": {
   "codemirror_mode": {
    "name": "ipython",
    "version": 3
   },
   "file_extension": ".py",
   "mimetype": "text/x-python",
   "name": "python",
   "nbconvert_exporter": "python",
   "pygments_lexer": "ipython3",
   "version": "3.11.1"
  }
 },
 "nbformat": 4,
 "nbformat_minor": 2
}
