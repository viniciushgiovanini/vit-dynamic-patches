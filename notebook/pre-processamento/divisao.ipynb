{
 "cells": [
  {
   "cell_type": "markdown",
   "metadata": {},
   "source": [
    "## Arquivo para divisao do dataset em Treino e Teste\n",
    "\n",
    "- Dividir os arquivo do path base_recortada para o path base_treinamento"
   ]
  },
  {
   "cell_type": "code",
   "execution_count": 50,
   "metadata": {},
   "outputs": [],
   "source": [
    "import shutil\n",
    "import random\n",
    "import os"
   ]
  },
  {
   "cell_type": "code",
   "execution_count": 51,
   "metadata": {},
   "outputs": [],
   "source": [
    "def obter_nomes_pastas(diretorio):\n",
    "    nomes_pastas = []\n",
    "    for nome in os.listdir(diretorio):\n",
    "        if os.path.isdir(os.path.join(diretorio, nome)):\n",
    "            nomes_pastas.append(nome)\n",
    "    return nomes_pastas\n",
    "\n",
    "# Exemplo de uso\n",
    "cwd = os.getcwd()\n",
    "diretorio = os.path.join(cwd, \"..\", \"..\" ,\"data\", \"base_recortada\")\n",
    "\n",
    "pastas = obter_nomes_pastas(diretorio)\n",
    "\n",
    "\n",
    "diretorio_origem = diretorio\n",
    "diretorio_destino = os.path.join(cwd, \"..\", \"..\" ,\"data\", \"base_treinamento\")\n",
    "\n",
    "percent = 0.8\n",
    "\n",
    "for each in pastas:\n",
    "\n",
    "    # Diretório contendo todas as imagens\n",
    "    diretorio_imagens = diretorio_origem + f'/{each}/'\n",
    "\n",
    "    # Diretório para salvar as imagens de treinamento\n",
    "    diretorio_treinamento = diretorio_destino + f'/train/{each}/'\n",
    "\n",
    "    # Diretório para salvar as imagens de teste\n",
    "    diretorio_teste = diretorio_destino + f'/test/{each}/'\n",
    "\n",
    "    # Lista todas as imagens no diretório\n",
    "    imagens = os.listdir(diretorio_imagens)\n",
    "\n",
    "    # Embaralha a lista de imagens\n",
    "    random.shuffle(imagens)\n",
    "\n",
    "    # Calcula o índice para dividir as imagens\n",
    "    indice_divisao = int(percent * len(imagens))\n",
    "\n",
    "    # Separa as imagens em treinamento e teste\n",
    "    imagens_treinamento = imagens[:indice_divisao]\n",
    "    imagens_teste = imagens[indice_divisao:]\n",
    "\n",
    "    if not (os.path.exists(diretorio_teste)):\n",
    "        os.makedirs(diretorio_teste)\n",
    "\n",
    "    if not (os.path.exists(diretorio_treinamento)):\n",
    "        os.makedirs(diretorio_treinamento)\n",
    "\n",
    "    # Move as imagens para os diretórios correspondentes\n",
    "    for imagem in imagens_treinamento:\n",
    "        shutil.copy(os.path.join(diretorio_imagens, imagem),\n",
    "                    diretorio_treinamento)\n",
    "\n",
    "    for imagem in imagens_teste:\n",
    "        shutil.copy(os.path.join(diretorio_imagens, imagem), diretorio_teste)"
   ]
  },
  {
   "cell_type": "markdown",
   "metadata": {},
   "source": [
    "Criando Validate\n"
   ]
  },
  {
   "cell_type": "code",
   "execution_count": 52,
   "metadata": {},
   "outputs": [],
   "source": [
    "def listar_imagens(diretorio_raiz, extensoes_imagens=None):\n",
    "    if extensoes_imagens is None:\n",
    "        extensoes_imagens = ['.jpg', '.jpeg', '.png']\n",
    "\n",
    "    arquivos_imagens = []\n",
    "    for dirpath, _, filenames in os.walk(diretorio_raiz):\n",
    "        for filename in filenames:\n",
    "            if any(filename.lower().endswith(extensao) for extensao in extensoes_imagens):\n",
    "                caminho_completo = os.path.join(dirpath, filename)\n",
    "                arquivos_imagens.append(caminho_completo)\n",
    "    return arquivos_imagens"
   ]
  },
  {
   "cell_type": "code",
   "execution_count": 53,
   "metadata": {},
   "outputs": [
    {
     "name": "stdout",
     "output_type": "stream",
     "text": [
      "['ASC-H', 'ASC-US', 'HSIL', 'LSIL', 'Negative for intraepithelial lesion', 'SCC']\n",
      "O total de imagens de treino no path ../../data/base_treinamento/train/ASC-H/ são 40, e 20% destas são 148\n",
      "O total de imagens de treino no path ../../data/base_treinamento/train/ASC-US/ são 41, e 20% destas são 96\n",
      "O total de imagens de treino no path ../../data/base_treinamento/train/HSIL/ são 39, e 20% destas são 272\n",
      "O total de imagens de treino no path ../../data/base_treinamento/train/LSIL/ são 39, e 20% destas são 217\n",
      "O total de imagens de treino no path ../../data/base_treinamento/train/Negative for intraepithelial lesion/ são 70, e 20% destas são 1084\n",
      "O total de imagens de treino no path ../../data/base_treinamento/train/SCC/ são 38, e 20% destas são 25\n"
     ]
    }
   ],
   "source": [
    "def mover_imagens(origem, destino, quantidade):\n",
    "    if not os.path.exists(destino):\n",
    "        os.makedirs(destino)\n",
    "\n",
    "    arquivos = listar_imagens(origem)\n",
    "    \n",
    "    if arquivos:\n",
    "        arquivos_para_mover = random.sample(arquivos, min(quantidade, len(arquivos)))\n",
    "        \n",
    "        for arquivo in arquivos_para_mover:\n",
    "          \n",
    "            tmp = arquivo.split(\"/\")\n",
    "            \n",
    "            img_name = tmp[-1]\n",
    "\n",
    "            caminho_arquivo_origem = os.path.join(origem,  img_name)\n",
    "            caminho_arquivo_destino = os.path.join(destino,  img_name)\n",
    "            \n",
    "            shutil.move(caminho_arquivo_origem, caminho_arquivo_destino)\n",
    "    else:\n",
    "        print(f'Nenhuma imagem encontrada na pasta: {origem}')\n",
    "\n",
    "origem = '../../data/base_treinamento/train/'\n",
    "destino = '../../data/base_treinamento/validation/'\n",
    "\n",
    "pastas = obter_nomes_pastas(diretorio)\n",
    "\n",
    "\n",
    "\n",
    "print(pastas)\n",
    "\n",
    "for each in pastas:\n",
    "  path_final = origem + each + \"/\"\n",
    "  \n",
    "  destino_final = destino + each + \"/\"\n",
    "\n",
    "  all_image = listar_imagens(path_final)\n",
    "  \n",
    "  quantidade_resultado = int((20 / 100) * len(all_image))\n",
    "  \n",
    "  print(f\"O total de imagens de treino no path {path_final} são {len(path_final)}, e 20% destas são {quantidade_resultado}\")\n",
    "\n",
    "  mover_imagens(path_final, destino_final, quantidade_resultado)\n"
   ]
  }
 ],
 "metadata": {
  "kernelspec": {
   "display_name": "env",
   "language": "python",
   "name": "python3"
  },
  "language_info": {
   "codemirror_mode": {
    "name": "ipython",
    "version": 3
   },
   "file_extension": ".py",
   "mimetype": "text/x-python",
   "name": "python",
   "nbconvert_exporter": "python",
   "pygments_lexer": "ipython3",
   "version": "3.11.1"
  }
 },
 "nbformat": 4,
 "nbformat_minor": 2
}
