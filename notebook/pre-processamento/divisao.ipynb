{
 "cells": [
  {
   "cell_type": "markdown",
   "metadata": {},
   "source": [
    "## Arquivo para divisao do dataset em Treino e Teste\n",
    "\n",
    "- Dividir os arquivo do path base_recortada para o path base_treinamento"
   ]
  },
  {
   "cell_type": "code",
   "execution_count": 11,
   "metadata": {},
   "outputs": [],
   "source": [
    "import shutil\n",
    "import random\n",
    "import os"
   ]
  },
  {
   "cell_type": "code",
   "execution_count": 14,
   "metadata": {},
   "outputs": [],
   "source": [
    "def obter_nomes_pastas(diretorio):\n",
    "    nomes_pastas = []\n",
    "    for nome in os.listdir(diretorio):\n",
    "        if os.path.isdir(os.path.join(diretorio, nome)):\n",
    "            nomes_pastas.append(nome)\n",
    "    return nomes_pastas\n",
    "\n",
    "# Exemplo de uso\n",
    "cwd = os.getcwd()\n",
    "diretorio = os.path.join(cwd, \"..\", \"..\" ,\"data\", \"base_recortada\")\n",
    "\n",
    "pastas = obter_nomes_pastas(diretorio)\n",
    "\n",
    "\n",
    "diretorio_origem = diretorio\n",
    "diretorio_destino = os.path.join(cwd, \"..\", \"..\" ,\"data\", \"base_balanceada\")\n",
    "\n",
    "percent = 0.8\n",
    "\n",
    "for each in pastas:\n",
    "\n",
    "    # Diretório contendo todas as imagens\n",
    "    diretorio_imagens = diretorio_origem + f'/{each}/'\n",
    "\n",
    "    # Diretório para salvar as imagens de treinamento\n",
    "    diretorio_treinamento = diretorio_destino + f'/train/{each}/'\n",
    "\n",
    "    # Diretório para salvar as imagens de teste\n",
    "    diretorio_teste = diretorio_destino + f'/test/{each}/'\n",
    "\n",
    "    # Lista todas as imagens no diretório\n",
    "    imagens = os.listdir(diretorio_imagens)\n",
    "\n",
    "    # Embaralha a lista de imagens\n",
    "    random.shuffle(imagens)\n",
    "\n",
    "    # Calcula o índice para dividir as imagens\n",
    "    indice_divisao = int(percent * len(imagens))\n",
    "\n",
    "    # Separa as imagens em treinamento e teste\n",
    "    imagens_treinamento = imagens[:indice_divisao]\n",
    "    imagens_teste = imagens[indice_divisao:]\n",
    "\n",
    "    if not (os.path.exists(diretorio_teste)):\n",
    "        os.makedirs(diretorio_teste)\n",
    "\n",
    "    if not (os.path.exists(diretorio_treinamento)):\n",
    "        os.makedirs(diretorio_treinamento)\n",
    "\n",
    "    # Move as imagens para os diretórios correspondentes\n",
    "    for imagem in imagens_treinamento:\n",
    "        shutil.copy(os.path.join(diretorio_imagens, imagem),\n",
    "                    diretorio_treinamento)\n",
    "\n",
    "    for imagem in imagens_teste:\n",
    "        shutil.copy(os.path.join(diretorio_imagens, imagem), diretorio_teste)"
   ]
  },
  {
   "cell_type": "markdown",
   "metadata": {},
   "source": [
    "Criando Validate\n"
   ]
  },
  {
   "cell_type": "code",
   "execution_count": 15,
   "metadata": {},
   "outputs": [
    {
     "name": "stdout",
     "output_type": "stream",
     "text": [
      "Movido: ../../data/base_balanceada/train/ASC-H\\9763.png para ../../data/base_balanceada/validation/ASC-H\\9763.png\n",
      "Movido: ../../data/base_balanceada/train/ASC-H\\9771.png para ../../data/base_balanceada/validation/ASC-H\\9771.png\n",
      "Movido: ../../data/base_balanceada/train/ASC-H\\9734.png para ../../data/base_balanceada/validation/ASC-H\\9734.png\n",
      "Movido: ../../data/base_balanceada/train/ASC-H\\9894.png para ../../data/base_balanceada/validation/ASC-H\\9894.png\n",
      "Movido: ../../data/base_balanceada/train/ASC-H\\8140.png para ../../data/base_balanceada/validation/ASC-H\\8140.png\n",
      "Movido: ../../data/base_balanceada/train/ASC-US\\2874.png para ../../data/base_balanceada/validation/ASC-US\\2874.png\n",
      "Movido: ../../data/base_balanceada/train/ASC-US\\3446.png para ../../data/base_balanceada/validation/ASC-US\\3446.png\n",
      "Movido: ../../data/base_balanceada/train/ASC-US\\3441.png para ../../data/base_balanceada/validation/ASC-US\\3441.png\n",
      "Movido: ../../data/base_balanceada/train/ASC-US\\4277.png para ../../data/base_balanceada/validation/ASC-US\\4277.png\n",
      "Movido: ../../data/base_balanceada/train/ASC-US\\3045.png para ../../data/base_balanceada/validation/ASC-US\\3045.png\n",
      "Movido: ../../data/base_balanceada/train/HSIL\\8064.png para ../../data/base_balanceada/validation/HSIL\\8064.png\n",
      "Movido: ../../data/base_balanceada/train/HSIL\\7842.png para ../../data/base_balanceada/validation/HSIL\\7842.png\n",
      "Movido: ../../data/base_balanceada/train/HSIL\\360.png para ../../data/base_balanceada/validation/HSIL\\360.png\n",
      "Movido: ../../data/base_balanceada/train/HSIL\\374.png para ../../data/base_balanceada/validation/HSIL\\374.png\n",
      "Movido: ../../data/base_balanceada/train/HSIL\\7845.png para ../../data/base_balanceada/validation/HSIL\\7845.png\n",
      "Movido: ../../data/base_balanceada/train/LSIL\\5524.png para ../../data/base_balanceada/validation/LSIL\\5524.png\n",
      "Movido: ../../data/base_balanceada/train/LSIL\\10104.png para ../../data/base_balanceada/validation/LSIL\\10104.png\n",
      "Movido: ../../data/base_balanceada/train/LSIL\\5523.png para ../../data/base_balanceada/validation/LSIL\\5523.png\n",
      "Movido: ../../data/base_balanceada/train/LSIL\\5503.png para ../../data/base_balanceada/validation/LSIL\\5503.png\n",
      "Movido: ../../data/base_balanceada/train/LSIL\\5274.png para ../../data/base_balanceada/validation/LSIL\\5274.png\n",
      "Movido: ../../data/base_balanceada/train/Negative for intraepithelial lesion\\2523.png para ../../data/base_balanceada/validation/Negative for intraepithelial lesion\\2523.png\n",
      "Movido: ../../data/base_balanceada/train/Negative for intraepithelial lesion\\4729.png para ../../data/base_balanceada/validation/Negative for intraepithelial lesion\\4729.png\n",
      "Movido: ../../data/base_balanceada/train/Negative for intraepithelial lesion\\7537.png para ../../data/base_balanceada/validation/Negative for intraepithelial lesion\\7537.png\n",
      "Movido: ../../data/base_balanceada/train/Negative for intraepithelial lesion\\7507.png para ../../data/base_balanceada/validation/Negative for intraepithelial lesion\\7507.png\n",
      "Movido: ../../data/base_balanceada/train/Negative for intraepithelial lesion\\4357.png para ../../data/base_balanceada/validation/Negative for intraepithelial lesion\\4357.png\n",
      "Movido: ../../data/base_balanceada/train/SCC\\7777.png para ../../data/base_balanceada/validation/SCC\\7777.png\n",
      "Movido: ../../data/base_balanceada/train/SCC\\2.png para ../../data/base_balanceada/validation/SCC\\2.png\n",
      "Movido: ../../data/base_balanceada/train/SCC\\7751.png para ../../data/base_balanceada/validation/SCC\\7751.png\n",
      "Movido: ../../data/base_balanceada/train/SCC\\111.png para ../../data/base_balanceada/validation/SCC\\111.png\n",
      "Movido: ../../data/base_balanceada/train/SCC\\7720.png para ../../data/base_balanceada/validation/SCC\\7720.png\n"
     ]
    }
   ],
   "source": [
    "def mover_imagens(origem, destino, quantidade):\n",
    "    if not os.path.exists(destino):\n",
    "        os.makedirs(destino)\n",
    "\n",
    "    for pasta in os.listdir(origem):\n",
    "        pasta_origem = os.path.join(origem, pasta)\n",
    "        if os.path.isdir(pasta_origem):\n",
    "            pasta_destino = os.path.join(destino, pasta)\n",
    "            if not os.path.exists(pasta_destino):\n",
    "                os.makedirs(pasta_destino)\n",
    "\n",
    "            arquivos = [f for f in os.listdir(pasta_origem) if os.path.isfile(os.path.join(pasta_origem, f))]\n",
    "            \n",
    "            if arquivos:\n",
    "                arquivos_para_mover = random.sample(arquivos, min(quantidade, len(arquivos)))\n",
    "                for arquivo in arquivos_para_mover:\n",
    "                    caminho_arquivo_origem = os.path.join(pasta_origem, arquivo)\n",
    "                    caminho_arquivo_destino = os.path.join(pasta_destino, arquivo)\n",
    "                    shutil.move(caminho_arquivo_origem, caminho_arquivo_destino)\n",
    "                    print(f'Movido: {caminho_arquivo_origem} para {caminho_arquivo_destino}')\n",
    "\n",
    "origem = '../../data/base_balanceada/train/'\n",
    "destino = '../../data/base_balanceada/validation/'\n",
    "quantidade = 5 \n",
    "\n",
    "mover_imagens(origem, destino, quantidade)\n"
   ]
  }
 ],
 "metadata": {
  "kernelspec": {
   "display_name": "venv",
   "language": "python",
   "name": "python3"
  },
  "language_info": {
   "codemirror_mode": {
    "name": "ipython",
    "version": 3
   },
   "file_extension": ".py",
   "mimetype": "text/x-python",
   "name": "python",
   "nbconvert_exporter": "python",
   "pygments_lexer": "ipython3",
   "version": "3.11.1"
  }
 },
 "nbformat": 4,
 "nbformat_minor": 2
}
