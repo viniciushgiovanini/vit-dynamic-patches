{
 "cells": [
  {
   "cell_type": "markdown",
   "metadata": {},
   "source": [
    "## Arquivo para divisao do dataset em Treino e Teste\n",
    "\n",
    "- Dividir os arquivo do path base_recortada para o path base_treinamento"
   ]
  },
  {
   "cell_type": "code",
   "execution_count": 1,
   "metadata": {},
   "outputs": [],
   "source": [
    "import shutil\n",
    "import random\n",
    "import os"
   ]
  },
  {
   "cell_type": "code",
   "execution_count": 2,
   "metadata": {},
   "outputs": [],
   "source": [
    "def obter_nomes_pastas(diretorio):\n",
    "    nomes_pastas = []\n",
    "    for nome in os.listdir(diretorio):\n",
    "        if os.path.isdir(os.path.join(diretorio, nome)):\n",
    "            nomes_pastas.append(nome)\n",
    "    return nomes_pastas\n",
    "\n",
    "# Exemplo de uso\n",
    "cwd = os.getcwd()\n",
    "diretorio = os.path.join(cwd, \"..\", \"..\" ,\"data\", \"base_recortada\")\n",
    "\n",
    "pastas = obter_nomes_pastas(diretorio)\n",
    "\n",
    "\n",
    "diretorio_origem = diretorio\n",
    "diretorio_destino = os.path.join(cwd, \"..\", \"..\" ,\"data\", \"base_treinamento\")\n",
    "\n",
    "percent = 0.8\n",
    "\n",
    "for each in pastas:\n",
    "\n",
    "    # Diretório contendo todas as imagens\n",
    "    diretorio_imagens = diretorio_origem + f'/{each}/'\n",
    "\n",
    "    # Diretório para salvar as imagens de treinamento\n",
    "    diretorio_treinamento = diretorio_destino + f'/train/{each}/'\n",
    "\n",
    "    # Diretório para salvar as imagens de teste\n",
    "    diretorio_teste = diretorio_destino + f'/test/{each}/'\n",
    "\n",
    "    # Lista todas as imagens no diretório\n",
    "    imagens = os.listdir(diretorio_imagens)\n",
    "\n",
    "    # Embaralha a lista de imagens\n",
    "    random.shuffle(imagens)\n",
    "\n",
    "    # Calcula o índice para dividir as imagens\n",
    "    indice_divisao = int(percent * len(imagens))\n",
    "\n",
    "    # Separa as imagens em treinamento e teste\n",
    "    imagens_treinamento = imagens[:indice_divisao]\n",
    "    imagens_teste = imagens[indice_divisao:]\n",
    "\n",
    "    if not (os.path.exists(diretorio_teste)):\n",
    "        os.makedirs(diretorio_teste)\n",
    "\n",
    "    if not (os.path.exists(diretorio_treinamento)):\n",
    "        os.makedirs(diretorio_treinamento)\n",
    "\n",
    "    # Move as imagens para os diretórios correspondentes\n",
    "    for imagem in imagens_treinamento:\n",
    "        shutil.copy(os.path.join(diretorio_imagens, imagem),\n",
    "                    diretorio_treinamento)\n",
    "\n",
    "    for imagem in imagens_teste:\n",
    "        shutil.copy(os.path.join(diretorio_imagens, imagem), diretorio_teste)"
   ]
  },
  {
   "cell_type": "markdown",
   "metadata": {},
   "source": [
    "Criando Validate\n"
   ]
  },
  {
   "cell_type": "code",
   "execution_count": 3,
   "metadata": {},
   "outputs": [],
   "source": [
    "def listar_imagens(diretorio_raiz, extensoes_imagens=None):\n",
    "    if extensoes_imagens is None:\n",
    "        extensoes_imagens = ['.jpg', '.jpeg', '.png']\n",
    "\n",
    "    arquivos_imagens = []\n",
    "    for dirpath, _, filenames in os.walk(diretorio_raiz):\n",
    "        for filename in filenames:\n",
    "            if any(filename.lower().endswith(extensao) for extensao in extensoes_imagens):\n",
    "                caminho_completo = os.path.join(dirpath, filename)\n",
    "                arquivos_imagens.append(caminho_completo)\n",
    "    return arquivos_imagens"
   ]
  },
  {
   "cell_type": "code",
   "execution_count": 4,
   "metadata": {},
   "outputs": [
    {
     "name": "stdout",
     "output_type": "stream",
     "text": [
      "Movido: ../../data/base_treinamento/train/Negative for intraepithelial lesion\\10152.png para ../../data/base_treinamento/validation/Negative for intraepithelial lesion\\10152.png\n",
      "Movido: ../../data/base_treinamento/train/Negative for intraepithelial lesion\\11467.png para ../../data/base_treinamento/validation/Negative for intraepithelial lesion\\11467.png\n",
      "Movido: ../../data/base_treinamento/train/Negative for intraepithelial lesion\\10807.png para ../../data/base_treinamento/validation/Negative for intraepithelial lesion\\10807.png\n",
      "Movido: ../../data/base_treinamento/train/Negative for intraepithelial lesion\\228.png para ../../data/base_treinamento/validation/Negative for intraepithelial lesion\\228.png\n",
      "Movido: ../../data/base_treinamento/train/Negative for intraepithelial lesion\\7274.png para ../../data/base_treinamento/validation/Negative for intraepithelial lesion\\7274.png\n",
      "Movido: ../../data/base_treinamento/train/Negative for intraepithelial lesion\\10149.png para ../../data/base_treinamento/validation/Negative for intraepithelial lesion\\10149.png\n",
      "Movido: ../../data/base_treinamento/train/Negative for intraepithelial lesion\\7323.png para ../../data/base_treinamento/validation/Negative for intraepithelial lesion\\7323.png\n",
      "Movido: ../../data/base_treinamento/train/Negative for intraepithelial lesion\\4807.png para ../../data/base_treinamento/validation/Negative for intraepithelial lesion\\4807.png\n",
      "Movido: ../../data/base_treinamento/train/Negative for intraepithelial lesion\\2313.png para ../../data/base_treinamento/validation/Negative for intraepithelial lesion\\2313.png\n",
      "Movido: ../../data/base_treinamento/train/Negative for intraepithelial lesion\\10046.png para ../../data/base_treinamento/validation/Negative for intraepithelial lesion\\10046.png\n",
      "Movido: ../../data/base_treinamento/train/Positive for intraepithelial lesion\\9332.png para ../../data/base_treinamento/validation/Positive for intraepithelial lesion\\9332.png\n",
      "Movido: ../../data/base_treinamento/train/Positive for intraepithelial lesion\\9275.png para ../../data/base_treinamento/validation/Positive for intraepithelial lesion\\9275.png\n",
      "Movido: ../../data/base_treinamento/train/Positive for intraepithelial lesion\\376.png para ../../data/base_treinamento/validation/Positive for intraepithelial lesion\\376.png\n",
      "Movido: ../../data/base_treinamento/train/Positive for intraepithelial lesion\\9192.png para ../../data/base_treinamento/validation/Positive for intraepithelial lesion\\9192.png\n",
      "Movido: ../../data/base_treinamento/train/Positive for intraepithelial lesion\\5515.png para ../../data/base_treinamento/validation/Positive for intraepithelial lesion\\5515.png\n",
      "Movido: ../../data/base_treinamento/train/Positive for intraepithelial lesion\\2006.png para ../../data/base_treinamento/validation/Positive for intraepithelial lesion\\2006.png\n",
      "Movido: ../../data/base_treinamento/train/Positive for intraepithelial lesion\\486.png para ../../data/base_treinamento/validation/Positive for intraepithelial lesion\\486.png\n",
      "Movido: ../../data/base_treinamento/train/Positive for intraepithelial lesion\\9472.png para ../../data/base_treinamento/validation/Positive for intraepithelial lesion\\9472.png\n",
      "Movido: ../../data/base_treinamento/train/Positive for intraepithelial lesion\\8796.png para ../../data/base_treinamento/validation/Positive for intraepithelial lesion\\8796.png\n",
      "Movido: ../../data/base_treinamento/train/Positive for intraepithelial lesion\\5527.png para ../../data/base_treinamento/validation/Positive for intraepithelial lesion\\5527.png\n"
     ]
    }
   ],
   "source": [
    "def mover_imagens(origem, destino, quantidade):\n",
    "    if not os.path.exists(destino):\n",
    "        os.makedirs(destino)\n",
    "\n",
    "    for pasta in os.listdir(origem):\n",
    "        pasta_origem = os.path.join(origem, pasta)\n",
    "        if os.path.isdir(pasta_origem):\n",
    "            pasta_destino = os.path.join(destino, pasta)\n",
    "            if not os.path.exists(pasta_destino):\n",
    "                os.makedirs(pasta_destino)\n",
    "\n",
    "            arquivos = [f for f in os.listdir(pasta_origem) if os.path.isfile(os.path.join(pasta_origem, f))]\n",
    "            \n",
    "            if arquivos:\n",
    "                arquivos_para_mover = random.sample(arquivos, min(quantidade, len(arquivos)))\n",
    "                for arquivo in arquivos_para_mover:\n",
    "                    caminho_arquivo_origem = os.path.join(pasta_origem, arquivo)\n",
    "                    caminho_arquivo_destino = os.path.join(pasta_destino, arquivo)\n",
    "                    shutil.move(caminho_arquivo_origem, caminho_arquivo_destino)\n",
    "                    print(f'Movido: {caminho_arquivo_origem} para {caminho_arquivo_destino}')\n",
    "\n",
    "origem = '../../data/base_treinamento/train/'\n",
    "destino = '../../data/base_treinamento/validation/'\n",
    "\n",
    "# all_image = listar_imagens(origem)\n",
    "\n",
    "# print(len(all_image))\n",
    "\n",
    "# quantidade = int((2 / 100) * len(all_image))\n",
    "\n",
    "quantidade = 10\n",
    "\n",
    "mover_imagens(origem, destino, quantidade)\n"
   ]
  }
 ],
 "metadata": {
  "kernelspec": {
   "display_name": "venv",
   "language": "python",
   "name": "python3"
  },
  "language_info": {
   "codemirror_mode": {
    "name": "ipython",
    "version": 3
   },
   "file_extension": ".py",
   "mimetype": "text/x-python",
   "name": "python",
   "nbconvert_exporter": "python",
   "pygments_lexer": "ipython3",
   "version": "3.11.1"
  }
 },
 "nbformat": 4,
 "nbformat_minor": 2
}
