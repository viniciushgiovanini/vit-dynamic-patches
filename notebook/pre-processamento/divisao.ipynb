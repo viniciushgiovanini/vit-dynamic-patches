{
 "cells": [
  {
   "cell_type": "markdown",
   "metadata": {},
   "source": [
    "## Arquivo para divisao do dataset em Treino e Teste\n",
    "\n",
    "- Dividir os arquivo do path base_recortada para o path base_treinamento"
   ]
  },
  {
   "cell_type": "code",
   "execution_count": 9,
   "metadata": {},
   "outputs": [],
   "source": [
    "import shutil\n",
    "import random\n",
    "import os"
   ]
  },
  {
   "cell_type": "code",
   "execution_count": 10,
   "metadata": {},
   "outputs": [],
   "source": [
    "def obter_nomes_pastas(diretorio):\n",
    "    nomes_pastas = []\n",
    "    for nome in os.listdir(diretorio):\n",
    "        if os.path.isdir(os.path.join(diretorio, nome)):\n",
    "            nomes_pastas.append(nome)\n",
    "    return nomes_pastas\n",
    "\n",
    "# Exemplo de uso\n",
    "cwd = os.getcwd()\n",
    "diretorio = os.path.join(cwd, \"..\", \"..\" ,\"data\", \"base_recortada\")\n",
    "\n",
    "pastas = obter_nomes_pastas(diretorio)\n",
    "\n",
    "\n",
    "diretorio_origem = diretorio\n",
    "diretorio_destino = os.path.join(cwd, \"..\", \"..\" ,\"data\", \"base_treinamento\")\n",
    "\n",
    "percent = 0.8\n",
    "\n",
    "for each in pastas:\n",
    "\n",
    "    # Diretório contendo todas as imagens\n",
    "    diretorio_imagens = diretorio_origem + f'/{each}/'\n",
    "\n",
    "    # Diretório para salvar as imagens de treinamento\n",
    "    diretorio_treinamento = diretorio_destino + f'/train/{each}/'\n",
    "\n",
    "    # Diretório para salvar as imagens de teste\n",
    "    diretorio_teste = diretorio_destino + f'/test/{each}/'\n",
    "\n",
    "    # Lista todas as imagens no diretório\n",
    "    imagens = os.listdir(diretorio_imagens)\n",
    "\n",
    "    # Embaralha a lista de imagens\n",
    "    random.shuffle(imagens)\n",
    "\n",
    "    # Calcula o índice para dividir as imagens\n",
    "    indice_divisao = int(percent * len(imagens))\n",
    "\n",
    "    # Separa as imagens em treinamento e teste\n",
    "    imagens_treinamento = imagens[:indice_divisao]\n",
    "    imagens_teste = imagens[indice_divisao:]\n",
    "\n",
    "    if not (os.path.exists(diretorio_teste)):\n",
    "        os.makedirs(diretorio_teste)\n",
    "\n",
    "    if not (os.path.exists(diretorio_treinamento)):\n",
    "        os.makedirs(diretorio_treinamento)\n",
    "\n",
    "    # Move as imagens para os diretórios correspondentes\n",
    "    for imagem in imagens_treinamento:\n",
    "        shutil.copy(os.path.join(diretorio_imagens, imagem),\n",
    "                    diretorio_treinamento)\n",
    "\n",
    "    for imagem in imagens_teste:\n",
    "        shutil.copy(os.path.join(diretorio_imagens, imagem), diretorio_teste)"
   ]
  },
  {
   "cell_type": "markdown",
   "metadata": {},
   "source": [
    "Criando Validate\n"
   ]
  },
  {
   "cell_type": "code",
   "execution_count": 6,
   "metadata": {},
   "outputs": [],
   "source": [
    "def listar_imagens(diretorio_raiz, extensoes_imagens=None):\n",
    "    if extensoes_imagens is None:\n",
    "        extensoes_imagens = ['.jpg', '.jpeg', '.png']\n",
    "\n",
    "    arquivos_imagens = []\n",
    "    for dirpath, _, filenames in os.walk(diretorio_raiz):\n",
    "        for filename in filenames:\n",
    "            if any(filename.lower().endswith(extensao) for extensao in extensoes_imagens):\n",
    "                caminho_completo = os.path.join(dirpath, filename)\n",
    "                arquivos_imagens.append(caminho_completo)\n",
    "    return arquivos_imagens"
   ]
  },
  {
   "cell_type": "code",
   "execution_count": 7,
   "metadata": {},
   "outputs": [
    {
     "name": "stdout",
     "output_type": "stream",
     "text": [
      "Movido: ../../data/base_treinamento/train/ASC-H\\2100.png para ../../data/base_treinamento/validation/ASC-H\\2100.png\n",
      "Movido: ../../data/base_treinamento/train/ASC-H\\9110.png para ../../data/base_treinamento/validation/ASC-H\\9110.png\n",
      "Movido: ../../data/base_treinamento/train/ASC-H\\9776.png para ../../data/base_treinamento/validation/ASC-H\\9776.png\n",
      "Movido: ../../data/base_treinamento/train/ASC-H\\9746.png para ../../data/base_treinamento/validation/ASC-H\\9746.png\n",
      "Movido: ../../data/base_treinamento/train/ASC-US\\5080.png para ../../data/base_treinamento/validation/ASC-US\\5080.png\n",
      "Movido: ../../data/base_treinamento/train/ASC-US\\3153.png para ../../data/base_treinamento/validation/ASC-US\\3153.png\n",
      "Movido: ../../data/base_treinamento/train/ASC-US\\5366.png para ../../data/base_treinamento/validation/ASC-US\\5366.png\n",
      "Movido: ../../data/base_treinamento/train/ASC-US\\3169.png para ../../data/base_treinamento/validation/ASC-US\\3169.png\n",
      "Movido: ../../data/base_treinamento/train/HSIL\\465.png para ../../data/base_treinamento/validation/HSIL\\465.png\n",
      "Movido: ../../data/base_treinamento/train/HSIL\\8984.png para ../../data/base_treinamento/validation/HSIL\\8984.png\n",
      "Movido: ../../data/base_treinamento/train/HSIL\\8305.png para ../../data/base_treinamento/validation/HSIL\\8305.png\n",
      "Movido: ../../data/base_treinamento/train/HSIL\\9271.png para ../../data/base_treinamento/validation/HSIL\\9271.png\n",
      "Movido: ../../data/base_treinamento/train/LSIL\\232.png para ../../data/base_treinamento/validation/LSIL\\232.png\n",
      "Movido: ../../data/base_treinamento/train/LSIL\\1877.png para ../../data/base_treinamento/validation/LSIL\\1877.png\n",
      "Movido: ../../data/base_treinamento/train/LSIL\\5301.png para ../../data/base_treinamento/validation/LSIL\\5301.png\n",
      "Movido: ../../data/base_treinamento/train/LSIL\\4563.png para ../../data/base_treinamento/validation/LSIL\\4563.png\n",
      "Movido: ../../data/base_treinamento/train/Negative for intraepithelial lesion\\11134.png para ../../data/base_treinamento/validation/Negative for intraepithelial lesion\\11134.png\n",
      "Movido: ../../data/base_treinamento/train/Negative for intraepithelial lesion\\3299.png para ../../data/base_treinamento/validation/Negative for intraepithelial lesion\\3299.png\n",
      "Movido: ../../data/base_treinamento/train/Negative for intraepithelial lesion\\2151.png para ../../data/base_treinamento/validation/Negative for intraepithelial lesion\\2151.png\n",
      "Movido: ../../data/base_treinamento/train/Negative for intraepithelial lesion\\44.png para ../../data/base_treinamento/validation/Negative for intraepithelial lesion\\44.png\n",
      "Movido: ../../data/base_treinamento/train/SCC\\7983.png para ../../data/base_treinamento/validation/SCC\\7983.png\n",
      "Movido: ../../data/base_treinamento/train/SCC\\7689.png para ../../data/base_treinamento/validation/SCC\\7689.png\n",
      "Movido: ../../data/base_treinamento/train/SCC\\7623.png para ../../data/base_treinamento/validation/SCC\\7623.png\n",
      "Movido: ../../data/base_treinamento/train/SCC\\109.png para ../../data/base_treinamento/validation/SCC\\109.png\n"
     ]
    }
   ],
   "source": [
    "def mover_imagens(origem, destino, quantidade):\n",
    "    if not os.path.exists(destino):\n",
    "        os.makedirs(destino)\n",
    "\n",
    "    for pasta in os.listdir(origem):\n",
    "        pasta_origem = os.path.join(origem, pasta)\n",
    "        if os.path.isdir(pasta_origem):\n",
    "            pasta_destino = os.path.join(destino, pasta)\n",
    "            if not os.path.exists(pasta_destino):\n",
    "                os.makedirs(pasta_destino)\n",
    "\n",
    "            arquivos = [f for f in os.listdir(pasta_origem) if os.path.isfile(os.path.join(pasta_origem, f))]\n",
    "            \n",
    "            if arquivos:\n",
    "                arquivos_para_mover = random.sample(arquivos, min(quantidade, len(arquivos)))\n",
    "                for arquivo in arquivos_para_mover:\n",
    "                    caminho_arquivo_origem = os.path.join(pasta_origem, arquivo)\n",
    "                    caminho_arquivo_destino = os.path.join(pasta_destino, arquivo)\n",
    "                    shutil.move(caminho_arquivo_origem, caminho_arquivo_destino)\n",
    "                    print(f'Movido: {caminho_arquivo_origem} para {caminho_arquivo_destino}')\n",
    "\n",
    "origem = '../../data/base_treinamento/train/'\n",
    "destino = '../../data/base_treinamento/validation/'\n",
    "\n",
    "# all_image = listar_imagens(origem)\n",
    "\n",
    "# print(len(all_image))\n",
    "\n",
    "# quantidade = int((2 / 100) * len(all_image))\n",
    "\n",
    "quantidade = 4\n",
    "\n",
    "mover_imagens(origem, destino, quantidade)\n"
   ]
  }
 ],
 "metadata": {
  "kernelspec": {
   "display_name": "venv",
   "language": "python",
   "name": "python3"
  },
  "language_info": {
   "codemirror_mode": {
    "name": "ipython",
    "version": 3
   },
   "file_extension": ".py",
   "mimetype": "text/x-python",
   "name": "python",
   "nbconvert_exporter": "python",
   "pygments_lexer": "ipython3",
   "version": "3.11.1"
  }
 },
 "nbformat": 4,
 "nbformat_minor": 2
}
